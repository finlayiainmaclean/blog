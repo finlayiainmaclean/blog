{
  "nbformat": 4,
  "nbformat_minor": 0,
  "metadata": {
    "kernelspec": {
      "display_name": "visualization-curriculum-gF8wUgMm",
      "language": "python",
      "name": "visualization-curriculum-gf8wugmm"
    },
    "language_info": {
      "codemirror_mode": {
        "name": "ipython",
        "version": 3
      },
      "file_extension": ".py",
      "mimetype": "text/x-python",
      "name": "python",
      "nbconvert_exporter": "python",
      "pygments_lexer": "ipython3",
      "version": "3.6.7"
    },
    "varInspector": {
      "cols": {
        "lenName": 16,
        "lenType": 16,
        "lenVar": 40
      },
      "kernels_config": {
        "python": {
          "delete_cmd_postfix": "",
          "delete_cmd_prefix": "del ",
          "library": "var_list.py",
          "varRefreshCmd": "print(var_dic_list())"
        },
        "r": {
          "delete_cmd_postfix": ") ",
          "delete_cmd_prefix": "rm(",
          "library": "var_list.r",
          "varRefreshCmd": "cat(var_dic_list()) "
        }
      },
      "types_to_exclude": [
        "module",
        "function",
        "builtin_function_or_method",
        "instance",
        "_Feature"
      ],
      "window_display": false
    },
    "colab": {
      "name": "2020-02-20-test.ipynb",
      "provenance": []
    }
  },
  "cells": [
    {
      "cell_type": "markdown",
      "metadata": {
        "id": "_LG2dNiK9IZp"
      },
      "source": [
        "# Hello World\n",
        "> A little intro into the world of Jekyll and fastpages.\n",
        "\n",
        "- toc: true \n",
        "- badges: true\n",
        "- comments: true\n",
        "- categories: [jupyter]\n",
        "- image: images/chart-preview.png"
      ]
    },
    {
      "cell_type": "markdown",
      "metadata": {
        "id": "FxYKo9h29IZt"
      },
      "source": [
        "# Interesting papers\n",
        "\n",
        "* [Clinical success rates](https://pharmaintelligence.informa.com/~/media/)\n",
        "Very in-depth study into what factors contribute to a drug being approved.\n",
        "\n",
        "* [Bidrectional genetic genes](https://www.nature.com/articles/s41467-021-21843-8) with __both__ GoF and LoF mutations are 4x more likely the become drug targets (when one would assume they would only be 2x more likely).\n",
        "\n",
        "* [Revision](https://journals.plos.org/plosgenetics/article?id=10.1371/journal.pgen.1008489) of the seminal paper showing targets with genetic evidence are more likely to be approved.\n",
        "\n",
        "* [Paper](https://www.researchgate.net/publication/235740124_Finding_the_targets_of_a_drug_by_integration_of_gene_expression_data_with_a_protein_interaction_network) using correlation-based diffusion through an PPI network, using DEGs as seeds. Diffused genes are more highly correlated with perturbed gene in respective study.\n",
        "\n",
        "* [Great](https://practicalcheminformatics.blogspot.com/) chemoinformatics blog (where this blog gets it's namesake)\n",
        "\n",
        "* [Another](https://iwatobipen.wordpress.com/) great chemoinformatics blog.\n",
        "\n"
      ]
    },
    {
      "cell_type": "markdown",
      "metadata": {
        "id": "z3QTdp2Q9IZt"
      },
      "source": [
        "## Project ideas\n",
        "\n",
        "\n",
        "* [Standardised FAERS data](https://www.nature.com/articles/sdata201626)\n",
        "* Could build a model to predict odds ratio, imputing missing drug/phenotype pairs\n",
        "* After mapping drugs to direction (inhibit/activate) and target, one could see which protein level changes have affect on the phenotype."
      ]
    }
  ]
}
