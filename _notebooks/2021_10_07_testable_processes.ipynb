{
  "nbformat": 4,
  "nbformat_minor": 0,
  "metadata": {
    "colab": {
      "name": "2021-10-07-testable_processes.ipynb",
      "provenance": [],
      "collapsed_sections": []
    },
    "kernelspec": {
      "display_name": "Python 3",
      "name": "python3"
    }
  },
  "cells": [
    {
      "cell_type": "markdown",
      "metadata": {
        "id": "4tPcVis2LyZQ"
      },
      "source": [
        "# Prerank GSEA for assayable biological processes\n",
        "> Biological processes mapped to assays\n",
        "\n",
        "- toc: true \n",
        "- badges: true\n",
        "- comments: true\n",
        "- categories: [useful_resources]\n",
        "- image: images/chart-preview.png"
      ]
    },
    {
      "cell_type": "markdown",
      "metadata": {
        "id": "COvDiUCcNBme"
      },
      "source": [
        "Whilst it often useful to use [GeneOntology](http://geneontology.org/)'s biological processes to approximate the pathomechanisms of a disease, one frequently finds themself whittling through a list of enriched biological processes, trying to find a process that is actually assayable.\n",
        "\n",
        "Fortunately, living deep within the Supplementary Material of a Nature [paper](https://www.nature.com/articles/ng.3259#MOESM9), lives a curated list of  processes **testable through specific molecular experiments**."
      ]
    },
    {
      "cell_type": "markdown",
      "metadata": {
        "id": "tF9vdnV4BFLv"
      },
      "source": [
        "Let's install gseapy and download the data."
      ]
    },
    {
      "cell_type": "code",
      "metadata": {
        "id": "bcfF75_dMGXj"
      },
      "source": [
        "!pip install gseapy\n",
        "!wget https://static-content.springer.com/esm/art%3A10.1038%2Fng.3259/MediaObjects/41588_2015_BFng3259_MOESM9_ESM.xlsx\n",
        "!mv 41588_2015_BFng3259_MOESM9_ESM.xlsx processes.xlsx\n",
        "!wget https://static-content.springer.com/esm/art%3A10.1038%2Fng.3259/MediaObjects/41588_2015_BFng3259_MOESM12_ESM.xlsx\n",
        "!mv 41588_2015_BFng3259_MOESM12_ESM.xlsx tissue_go_mapping.xlsx\n",
        "!wget https://raw.githubusercontent.com/finlayiainmaclean/datadump/main/EFO_0000342-associated-diseases.csv\n",
        "!curl -OL https://github.com/finlayiainmaclean/datadump/blob/main/genego.tab.zip?raw=true\n",
        "!unzip genego.tab.zip?raw=true"
      ],
      "execution_count": 96,
      "outputs": []
    },
    {
      "cell_type": "code",
      "metadata": {
        "id": "ywBYbMszQB5t"
      },
      "source": [
        "import gseapy as gp\n",
        "import pandas as pd\n",
        "import numpy as np"
      ],
      "execution_count": 95,
      "outputs": []
    },
    {
      "cell_type": "code",
      "metadata": {
        "colab": {
          "base_uri": "https://localhost:8080/"
        },
        "id": "bifwJlmUBPfw",
        "outputId": "8da6e211-7183-4a72-8402-a6bd2dcb5ffb"
      },
      "source": [
        "gene2go.go.nunique(), len(processes)"
      ],
      "execution_count": 103,
      "outputs": [
        {
          "output_type": "execute_result",
          "data": {
            "text/plain": [
              "(12248, 973)"
            ]
          },
          "metadata": {},
          "execution_count": 103
        }
      ]
    },
    {
      "cell_type": "markdown",
      "metadata": {
        "id": "yGH4nCIBBNH9"
      },
      "source": [
        "There are 973 testable processes out of 12248.. Not that many.."
      ]
    },
    {
      "cell_type": "code",
      "metadata": {
        "colab": {
          "base_uri": "https://localhost:8080/",
          "height": 419
        },
        "id": "W3hwOWU_zDT6",
        "outputId": "b3892a71-852b-4c3b-f8f6-6c1bad03a325"
      },
      "source": [
        "processes = pd.read_excel('processes.xlsx', skiprows=1)\n",
        "processes"
      ],
      "execution_count": 97,
      "outputs": [
        {
          "output_type": "execute_result",
          "data": {
            "text/html": [
              "<div>\n",
              "<style scoped>\n",
              "    .dataframe tbody tr th:only-of-type {\n",
              "        vertical-align: middle;\n",
              "    }\n",
              "\n",
              "    .dataframe tbody tr th {\n",
              "        vertical-align: top;\n",
              "    }\n",
              "\n",
              "    .dataframe thead th {\n",
              "        text-align: right;\n",
              "    }\n",
              "</style>\n",
              "<table border=\"1\" class=\"dataframe\">\n",
              "  <thead>\n",
              "    <tr style=\"text-align: right;\">\n",
              "      <th></th>\n",
              "      <th>GO Term Name</th>\n",
              "      <th>GO Term ID</th>\n",
              "    </tr>\n",
              "  </thead>\n",
              "  <tbody>\n",
              "    <tr>\n",
              "      <th>0</th>\n",
              "      <td>abscisic_acid_mediated_signaling_pathway</td>\n",
              "      <td>GO:0009738</td>\n",
              "    </tr>\n",
              "    <tr>\n",
              "      <th>1</th>\n",
              "      <td>abscisic_acid_metabolic_process</td>\n",
              "      <td>GO:0009687</td>\n",
              "    </tr>\n",
              "    <tr>\n",
              "      <th>2</th>\n",
              "      <td>acetyl_coa_biosynthetic_process_from_acetate</td>\n",
              "      <td>GO:0019427</td>\n",
              "    </tr>\n",
              "    <tr>\n",
              "      <th>3</th>\n",
              "      <td>acetylcholine_transport</td>\n",
              "      <td>GO:0015870</td>\n",
              "    </tr>\n",
              "    <tr>\n",
              "      <th>4</th>\n",
              "      <td>actin_cytoskeleton_reorganization</td>\n",
              "      <td>GO:0031532</td>\n",
              "    </tr>\n",
              "    <tr>\n",
              "      <th>...</th>\n",
              "      <td>...</td>\n",
              "      <td>...</td>\n",
              "    </tr>\n",
              "    <tr>\n",
              "      <th>968</th>\n",
              "      <td>xanthophyll_metabolic_process</td>\n",
              "      <td>GO:0016122</td>\n",
              "    </tr>\n",
              "    <tr>\n",
              "      <th>969</th>\n",
              "      <td>xenobiotic_metabolic_process</td>\n",
              "      <td>GO:0006805</td>\n",
              "    </tr>\n",
              "    <tr>\n",
              "      <th>970</th>\n",
              "      <td>xylan_catabolic_process</td>\n",
              "      <td>GO:0045493</td>\n",
              "    </tr>\n",
              "    <tr>\n",
              "      <th>971</th>\n",
              "      <td>xylem_and_phloem_pattern_formation</td>\n",
              "      <td>GO:0010051</td>\n",
              "    </tr>\n",
              "    <tr>\n",
              "      <th>972</th>\n",
              "      <td>zinc_ion_transport</td>\n",
              "      <td>GO:0006829</td>\n",
              "    </tr>\n",
              "  </tbody>\n",
              "</table>\n",
              "<p>973 rows × 2 columns</p>\n",
              "</div>"
            ],
            "text/plain": [
              "                                     GO Term Name  GO Term ID\n",
              "0        abscisic_acid_mediated_signaling_pathway  GO:0009738\n",
              "1                 abscisic_acid_metabolic_process  GO:0009687\n",
              "2    acetyl_coa_biosynthetic_process_from_acetate  GO:0019427\n",
              "3                         acetylcholine_transport  GO:0015870\n",
              "4               actin_cytoskeleton_reorganization  GO:0031532\n",
              "..                                            ...         ...\n",
              "968                 xanthophyll_metabolic_process  GO:0016122\n",
              "969                  xenobiotic_metabolic_process  GO:0006805\n",
              "970                       xylan_catabolic_process  GO:0045493\n",
              "971            xylem_and_phloem_pattern_formation  GO:0010051\n",
              "972                            zinc_ion_transport  GO:0006829\n",
              "\n",
              "[973 rows x 2 columns]"
            ]
          },
          "metadata": {},
          "execution_count": 97
        }
      ]
    },
    {
      "cell_type": "markdown",
      "metadata": {
        "id": "6N0EzziJzalG"
      },
      "source": [
        "The paper also mapped tissues to biological processes via first using co-occurences, and then manually curating the list."
      ]
    },
    {
      "cell_type": "code",
      "metadata": {
        "id": "O0prz-ZAO6kb"
      },
      "source": [
        "tissue_mapping = pd.read_excel('tissue_go_mapping.xlsx', skiprows=1).set_index('BRENDA Tissue ID')\n",
        "bto2name = dict(zip(tissue_mapping.index, tissue_mapping.Tissue))\n",
        "\n",
        "go2bto = {}\n",
        "for bto, row in tissue_mapping.drop(columns=['Tissue']).iterrows():\n",
        "  for go in row:\n",
        "    if go is None:\n",
        "      break\n",
        "    go2bto[go] = bto"
      ],
      "execution_count": 5,
      "outputs": []
    },
    {
      "cell_type": "markdown",
      "metadata": {
        "id": "2lV7TDDjzmwO"
      },
      "source": [
        "Let's run a prerank gene set enrichment analysis, using only testable biological processes. First we need to generate a geneset."
      ]
    },
    {
      "cell_type": "code",
      "metadata": {
        "id": "r7NlQFsruiI4"
      },
      "source": [
        "genego = pd.read_csv('genego.tab',sep='\\t')\n",
        "gene2go = []\n",
        "go2name = {}\n",
        "for row in genego.dropna(subset=['Gene ontology (biological process)']).itertuples():\n",
        "  for _go in row[4].split('; '):\n",
        "    go = _go.split('[')[1].replace(']','')\n",
        "    name = _go.split(' [')[0]\n",
        "    gene2go.append((row[2], go))\n",
        "    go2name[go] = name\n",
        "\n",
        "gene2go = pd.DataFrame(gene2go,columns =['gene','go'])\n",
        "gene2go_dict = gene2go.groupby('go')['gene'].apply(list).to_dict()\n",
        "gene2go_testable_dict = dict([(i, gene2go_dict[i]) for i in np.intersect1d(processes['GO Term ID'], gene2go.go)])"
      ],
      "execution_count": 14,
      "outputs": []
    },
    {
      "cell_type": "markdown",
      "metadata": {
        "id": "QQSRT-dOz12G"
      },
      "source": [
        "Let's run the prerankGSEA for chronic pancreatitis genes, defined by the overall association score in OpenTargets."
      ]
    },
    {
      "cell_type": "code",
      "metadata": {
        "colab": {
          "base_uri": "https://localhost:8080/",
          "height": 360
        },
        "id": "Fhmd0qbtShDP",
        "outputId": "c776c48b-b59c-4a7b-a952-5147e059deec"
      },
      "source": [
        "cp_targets = pd.read_csv('EFO_0000342-associated-diseases.csv')\n",
        "cp_targets.head(5)"
      ],
      "execution_count": 7,
      "outputs": [
        {
          "output_type": "execute_result",
          "data": {
            "text/html": [
              "<div>\n",
              "<style scoped>\n",
              "    .dataframe tbody tr th:only-of-type {\n",
              "        vertical-align: middle;\n",
              "    }\n",
              "\n",
              "    .dataframe tbody tr th {\n",
              "        vertical-align: top;\n",
              "    }\n",
              "\n",
              "    .dataframe thead th {\n",
              "        text-align: right;\n",
              "    }\n",
              "</style>\n",
              "<table border=\"1\" class=\"dataframe\">\n",
              "  <thead>\n",
              "    <tr style=\"text-align: right;\">\n",
              "      <th></th>\n",
              "      <th>symbol</th>\n",
              "      <th>overallAssociationScore</th>\n",
              "      <th>geneticAssociations</th>\n",
              "      <th>somaticMutations</th>\n",
              "      <th>drugs</th>\n",
              "      <th>pathwaysSystemsBiology</th>\n",
              "      <th>textMining</th>\n",
              "      <th>rnaExpression</th>\n",
              "      <th>animalModels</th>\n",
              "      <th>targetName</th>\n",
              "    </tr>\n",
              "  </thead>\n",
              "  <tbody>\n",
              "    <tr>\n",
              "      <th>0</th>\n",
              "      <td>PRSS1</td>\n",
              "      <td>0.834384</td>\n",
              "      <td>0.9183390021590296</td>\n",
              "      <td>No data</td>\n",
              "      <td>No data</td>\n",
              "      <td>No data</td>\n",
              "      <td>0.1838682865290527</td>\n",
              "      <td>No data</td>\n",
              "      <td>0.5693580106773287</td>\n",
              "      <td>serine protease 1</td>\n",
              "    </tr>\n",
              "    <tr>\n",
              "      <th>1</th>\n",
              "      <td>SPINK1</td>\n",
              "      <td>0.804783</td>\n",
              "      <td>0.8862311248507138</td>\n",
              "      <td>No data</td>\n",
              "      <td>No data</td>\n",
              "      <td>No data</td>\n",
              "      <td>0.23856390277427408</td>\n",
              "      <td>No data</td>\n",
              "      <td>0.3298784490540059</td>\n",
              "      <td>serine peptidase inhibitor Kazal type 1</td>\n",
              "    </tr>\n",
              "    <tr>\n",
              "      <th>2</th>\n",
              "      <td>CTRC</td>\n",
              "      <td>0.740035</td>\n",
              "      <td>0.8910696416923192</td>\n",
              "      <td>No data</td>\n",
              "      <td>No data</td>\n",
              "      <td>No data</td>\n",
              "      <td>0.09941106709313025</td>\n",
              "      <td>No data</td>\n",
              "      <td>0.29290105828927904</td>\n",
              "      <td>chymotrypsin C</td>\n",
              "    </tr>\n",
              "    <tr>\n",
              "      <th>3</th>\n",
              "      <td>CFTR</td>\n",
              "      <td>0.696968</td>\n",
              "      <td>0.9074161629304885</td>\n",
              "      <td>No data</td>\n",
              "      <td>No data</td>\n",
              "      <td>No data</td>\n",
              "      <td>0.2678564156117781</td>\n",
              "      <td>No data</td>\n",
              "      <td>0.3978335055391351</td>\n",
              "      <td>CF transmembrane conductance regulator</td>\n",
              "    </tr>\n",
              "    <tr>\n",
              "      <th>4</th>\n",
              "      <td>VDR</td>\n",
              "      <td>0.369580</td>\n",
              "      <td>No data</td>\n",
              "      <td>No data</td>\n",
              "      <td>0.607930797611621</td>\n",
              "      <td>No data</td>\n",
              "      <td>No data</td>\n",
              "      <td>No data</td>\n",
              "      <td>No data</td>\n",
              "      <td>vitamin D receptor</td>\n",
              "    </tr>\n",
              "  </tbody>\n",
              "</table>\n",
              "</div>"
            ],
            "text/plain": [
              "   symbol  ...                               targetName\n",
              "0   PRSS1  ...                        serine protease 1\n",
              "1  SPINK1  ...  serine peptidase inhibitor Kazal type 1\n",
              "2    CTRC  ...                           chymotrypsin C\n",
              "3    CFTR  ...   CF transmembrane conductance regulator\n",
              "4     VDR  ...                       vitamin D receptor\n",
              "\n",
              "[5 rows x 10 columns]"
            ]
          },
          "metadata": {},
          "execution_count": 7
        }
      ]
    },
    {
      "cell_type": "markdown",
      "metadata": {
        "id": "5-D0RSm07ORe"
      },
      "source": [
        "Running the enrichment, we see calcium-mediated signaling as one of the most enriched testable processes."
      ]
    },
    {
      "cell_type": "code",
      "metadata": {
        "colab": {
          "base_uri": "https://localhost:8080/",
          "height": 668
        },
        "id": "xD20GVuRS1OM",
        "outputId": "9ede2824-4528-4b0f-e0e0-c3fac65f1a27"
      },
      "source": [
        "pre_res = gp.prerank(rnk=cp_targets[['symbol','overallAssociationScore']].copy(), gene_sets=gene2go_testable_dict.copy(),\n",
        "                     processes=2,\n",
        "                     permutation_num=500, # reduce number to speed up testing\n",
        "                     outdir='prerank_report', format='png', seed=6)\n",
        "pre_res = pd.read_csv('prerank_report/gseapy.prerank.gene_sets.report.csv')\n",
        "pre_res['go_name'] = pre_res.Term.apply(go2name.get)\n",
        "#Map tissue\n",
        "pre_res['bto'] = pre_res.Term.apply(go2bto.get)\n",
        "pre_res['tissue_name'] = pre_res.bto.apply(bto2name.get)\n",
        "pre_res = pre_res.sort_values(by='es',ascending=False)\n",
        "pre_res.head(10)\n"
      ],
      "execution_count": 29,
      "outputs": [
        {
          "output_type": "execute_result",
          "data": {
            "text/html": [
              "<div>\n",
              "<style scoped>\n",
              "    .dataframe tbody tr th:only-of-type {\n",
              "        vertical-align: middle;\n",
              "    }\n",
              "\n",
              "    .dataframe tbody tr th {\n",
              "        vertical-align: top;\n",
              "    }\n",
              "\n",
              "    .dataframe thead th {\n",
              "        text-align: right;\n",
              "    }\n",
              "</style>\n",
              "<table border=\"1\" class=\"dataframe\">\n",
              "  <thead>\n",
              "    <tr style=\"text-align: right;\">\n",
              "      <th></th>\n",
              "      <th>Term</th>\n",
              "      <th>es</th>\n",
              "      <th>nes</th>\n",
              "      <th>pval</th>\n",
              "      <th>fdr</th>\n",
              "      <th>geneset_size</th>\n",
              "      <th>matched_size</th>\n",
              "      <th>genes</th>\n",
              "      <th>ledge_genes</th>\n",
              "      <th>go_name</th>\n",
              "      <th>bto</th>\n",
              "      <th>tissue_name</th>\n",
              "    </tr>\n",
              "  </thead>\n",
              "  <tbody>\n",
              "    <tr>\n",
              "      <th>0</th>\n",
              "      <td>GO:0006367</td>\n",
              "      <td>0.827233</td>\n",
              "      <td>1.431275</td>\n",
              "      <td>0.016000</td>\n",
              "      <td>0.220365</td>\n",
              "      <td>140</td>\n",
              "      <td>17</td>\n",
              "      <td>VDR;NR3C1;CREBBP;CCN2;PGR;THRA;PPARG;E2F2;NR4A...</td>\n",
              "      <td>VDR;NR3C1;CREBBP;CCN2;PGR;THRA</td>\n",
              "      <td>transcription initiation from RNA polymerase I...</td>\n",
              "      <td>None</td>\n",
              "      <td>None</td>\n",
              "    </tr>\n",
              "    <tr>\n",
              "      <th>4</th>\n",
              "      <td>GO:0006919</td>\n",
              "      <td>0.742733</td>\n",
              "      <td>1.288945</td>\n",
              "      <td>0.068000</td>\n",
              "      <td>0.846401</td>\n",
              "      <td>89</td>\n",
              "      <td>21</td>\n",
              "      <td>CDKN2A;NGFR;S100A9;NGF;EIF2AK3;NLRP1;BAD;PPARG...</td>\n",
              "      <td>CDKN2A;NGFR;S100A9;NGF;EIF2AK3;NLRP1;BAD</td>\n",
              "      <td>activation of cysteine-type endopeptidase acti...</td>\n",
              "      <td>None</td>\n",
              "      <td>None</td>\n",
              "    </tr>\n",
              "    <tr>\n",
              "      <th>1</th>\n",
              "      <td>GO:0016579</td>\n",
              "      <td>0.736472</td>\n",
              "      <td>1.287383</td>\n",
              "      <td>0.062000</td>\n",
              "      <td>0.577623</td>\n",
              "      <td>265</td>\n",
              "      <td>25</td>\n",
              "      <td>CFTR;SMAD4;IL33;PTEN;TP53;BAP1;CYLD;HIF1A;MYC;...</td>\n",
              "      <td>CFTR;SMAD4</td>\n",
              "      <td>protein deubiquitination</td>\n",
              "      <td>None</td>\n",
              "      <td>None</td>\n",
              "    </tr>\n",
              "    <tr>\n",
              "      <th>3</th>\n",
              "      <td>GO:0009749</td>\n",
              "      <td>0.720428</td>\n",
              "      <td>1.247147</td>\n",
              "      <td>0.122000</td>\n",
              "      <td>0.618023</td>\n",
              "      <td>62</td>\n",
              "      <td>18</td>\n",
              "      <td>SLC8A1;CCN2;ILDR2;GIPR;BAD;PTEN;NEUROD1;MAFA;R...</td>\n",
              "      <td>SLC8A1;CCN2;ILDR2;GIPR;BAD;PTEN;NEUROD1;MAFA;R...</td>\n",
              "      <td>response to glucose</td>\n",
              "      <td>None</td>\n",
              "      <td>None</td>\n",
              "    </tr>\n",
              "    <tr>\n",
              "      <th>2</th>\n",
              "      <td>GO:0042593</td>\n",
              "      <td>0.695962</td>\n",
              "      <td>1.227794</td>\n",
              "      <td>0.060000</td>\n",
              "      <td>0.577756</td>\n",
              "      <td>104</td>\n",
              "      <td>37</td>\n",
              "      <td>NGFR;PDX1;BHLHA15;GCK;INS;LEP;GCGR;WFS1;LEPR;C...</td>\n",
              "      <td>NGFR;PDX1;BHLHA15;GCK;INS;LEP;GCGR;WFS1;LEPR;C...</td>\n",
              "      <td>glucose homeostasis</td>\n",
              "      <td>None</td>\n",
              "      <td>None</td>\n",
              "    </tr>\n",
              "    <tr>\n",
              "      <th>5</th>\n",
              "      <td>GO:0019722</td>\n",
              "      <td>0.664942</td>\n",
              "      <td>1.138633</td>\n",
              "      <td>0.197581</td>\n",
              "      <td>0.944897</td>\n",
              "      <td>71</td>\n",
              "      <td>17</td>\n",
              "      <td>CXCR2;CXCR1;BHLHA15;EIF2AK3;PDPK1;CHRM3;TRPM4;...</td>\n",
              "      <td>CXCR2;CXCR1;BHLHA15;EIF2AK3;PDPK1;CHRM3</td>\n",
              "      <td>calcium-mediated signaling</td>\n",
              "      <td>None</td>\n",
              "      <td>None</td>\n",
              "    </tr>\n",
              "    <tr>\n",
              "      <th>6</th>\n",
              "      <td>GO:0050821</td>\n",
              "      <td>0.636343</td>\n",
              "      <td>1.112191</td>\n",
              "      <td>0.252505</td>\n",
              "      <td>0.976760</td>\n",
              "      <td>197</td>\n",
              "      <td>21</td>\n",
              "      <td>CDKN2A;WFS1;PTEN;TP53;CDKN1A;CHEK2;SMAD3;PARK7...</td>\n",
              "      <td>CDKN2A;WFS1;PTEN;TP53;CDKN1A</td>\n",
              "      <td>protein stabilization</td>\n",
              "      <td>None</td>\n",
              "      <td>None</td>\n",
              "    </tr>\n",
              "    <tr>\n",
              "      <th>8</th>\n",
              "      <td>GO:0001666</td>\n",
              "      <td>0.603386</td>\n",
              "      <td>1.069221</td>\n",
              "      <td>0.310000</td>\n",
              "      <td>1.000000</td>\n",
              "      <td>157</td>\n",
              "      <td>36</td>\n",
              "      <td>SMAD4;CREBBP;LEP;TLR2;CD38;NF1;HIF1A;EGR1;REG1...</td>\n",
              "      <td>SMAD4;CREBBP;LEP;TLR2;CD38</td>\n",
              "      <td>response to hypoxia</td>\n",
              "      <td>None</td>\n",
              "      <td>None</td>\n",
              "    </tr>\n",
              "    <tr>\n",
              "      <th>9</th>\n",
              "      <td>GO:0016567</td>\n",
              "      <td>0.600506</td>\n",
              "      <td>1.053758</td>\n",
              "      <td>0.344000</td>\n",
              "      <td>1.000000</td>\n",
              "      <td>414</td>\n",
              "      <td>21</td>\n",
              "      <td>CRBN;DDB1;RBX1;CUL4A;FEM1B;SMURF1;CUL9;SOCS1;H...</td>\n",
              "      <td>CRBN;DDB1;RBX1;CUL4A;FEM1B;SMURF1;CUL9;SOCS1</td>\n",
              "      <td>protein ubiquitination</td>\n",
              "      <td>None</td>\n",
              "      <td>None</td>\n",
              "    </tr>\n",
              "    <tr>\n",
              "      <th>10</th>\n",
              "      <td>GO:0007204</td>\n",
              "      <td>0.583698</td>\n",
              "      <td>1.035730</td>\n",
              "      <td>0.380000</td>\n",
              "      <td>1.000000</td>\n",
              "      <td>149</td>\n",
              "      <td>25</td>\n",
              "      <td>CXCR2;CXCR1;CD38;PKD1;GIPR;FFAR1;GHRL;CCKBR;JA...</td>\n",
              "      <td>CXCR2;CXCR1;CD38;PKD1;GIPR;FFAR1;GHRL;CCKBR;JA...</td>\n",
              "      <td>positive regulation of cytosolic calcium ion c...</td>\n",
              "      <td>None</td>\n",
              "      <td>None</td>\n",
              "    </tr>\n",
              "  </tbody>\n",
              "</table>\n",
              "</div>"
            ],
            "text/plain": [
              "          Term        es  ...   bto  tissue_name\n",
              "0   GO:0006367  0.827233  ...  None         None\n",
              "4   GO:0006919  0.742733  ...  None         None\n",
              "1   GO:0016579  0.736472  ...  None         None\n",
              "3   GO:0009749  0.720428  ...  None         None\n",
              "2   GO:0042593  0.695962  ...  None         None\n",
              "5   GO:0019722  0.664942  ...  None         None\n",
              "6   GO:0050821  0.636343  ...  None         None\n",
              "8   GO:0001666  0.603386  ...  None         None\n",
              "9   GO:0016567  0.600506  ...  None         None\n",
              "10  GO:0007204  0.583698  ...  None         None\n",
              "\n",
              "[10 rows x 12 columns]"
            ]
          },
          "metadata": {},
          "execution_count": 29
        }
      ]
    },
    {
      "cell_type": "markdown",
      "metadata": {
        "id": "0pCi7ozP7cly"
      },
      "source": [
        "Let's take a look at the ES plot for calcium signalling."
      ]
    },
    {
      "cell_type": "code",
      "metadata": {
        "id": "KXiMGrGU1Na8",
        "colab": {
          "base_uri": "https://localhost:8080/",
          "height": 1000
        },
        "outputId": "7cc8a453-2e9f-4204-cf79-ad649ba19210"
      },
      "source": [
        "from IPython.display import Image\n",
        "Image('GO:0019722.prerank.png',width=1000, height=1000)"
      ],
      "execution_count": 27,
      "outputs": [
        {
          "output_type": "execute_result",
          "data": {
            "image/png": "GO:0019722.prerank.png",
            "text/plain": [
              "<IPython.core.display.Image object>"
            ]
          },
          "metadata": {
            "image/png": {
              "width": 1000,
              "height": 1000
            }
          },
          "execution_count": 27
        }
      ]
    },
    {
      "cell_type": "markdown",
      "metadata": {
        "id": "_po_Tc53Bp14"
      },
      "source": [
        "How does the python package **gseapy** compare with the R library **fgsea**? First let's set up R magic for colab, and install Bioconductor."
      ]
    },
    {
      "cell_type": "code",
      "metadata": {
        "id": "xkAcK7Nf972H",
        "colab": {
          "base_uri": "https://localhost:8080/"
        },
        "outputId": "138d067c-0685-4570-8ae6-5f339bf3d0f5"
      },
      "source": [
        "%load_ext rpy2.ipython"
      ],
      "execution_count": 30,
      "outputs": [
        {
          "output_type": "stream",
          "name": "stdout",
          "text": [
            "The rpy2.ipython extension is already loaded. To reload it, use:\n",
            "  %reload_ext rpy2.ipython\n"
          ]
        }
      ]
    },
    {
      "cell_type": "code",
      "metadata": {
        "id": "ktIpjE6QzWeq"
      },
      "source": [
        "%%R\n",
        "if (!requireNamespace(\"BiocManager\", quietly = TRUE))\n",
        "    install.packages(\"BiocManager\")\n",
        "\n",
        "BiocManager::install(\"fgsea\")"
      ],
      "execution_count": 101,
      "outputs": []
    },
    {
      "cell_type": "code",
      "metadata": {
        "id": "QBvK3lK2zWC5"
      },
      "source": [
        "%%R\n",
        "library(fgsea)\n",
        "library(data.table)\n",
        "library(ggplot2)"
      ],
      "execution_count": 34,
      "outputs": []
    },
    {
      "cell_type": "markdown",
      "metadata": {
        "id": "0m0RiTqqB93A"
      },
      "source": [
        "I'm sure there is a way to convert our python dict geneset to R's ListVector,but I cba to work it out. Instead, let's create a GMT format geneset from the pandas dataframe."
      ]
    },
    {
      "cell_type": "code",
      "metadata": {
        "colab": {
          "base_uri": "https://localhost:8080/",
          "height": 321
        },
        "id": "yQqFsf_g9EDu",
        "outputId": "f2089d64-3b51-4c95-ce62-9deb7451a582"
      },
      "source": [
        "df = pd.DataFrame(zip(gene2go_testable_dict.keys(), gene2go_testable_dict.values()))\n",
        "gene2go_testable_gmt = pd.DataFrame(df[1].tolist(), index= df[0])\n",
        "gene2go_testable_gmt.to_csv('testable_processes.gmt',sep='\\t',header=None)\n",
        "\n",
        "%R pathways <- gmtPathways('testable_processes.gmt')"
      ],
      "execution_count": 51,
      "outputs": [
        {
          "output_type": "execute_result",
          "data": {
            "text/html": [
              "\n",
              "        <span>ListVector with 638 elements.</span>\n",
              "        <table>\n",
              "        <tbody>\n",
              "        \n",
              "          <tr>\n",
              "            <th>\n",
              "            GO:0000054\n",
              "            </th>\n",
              "            <td>\n",
              "            \n",
              "        <span>StrVector with 412 elements.</span>\n",
              "        <table>\n",
              "        <tbody>\n",
              "          <tr>\n",
              "          \n",
              "            <td>\n",
              "            'LSG1'\n",
              "            </td>\n",
              "          \n",
              "            <td>\n",
              "            'ABCE1'\n",
              "            </td>\n",
              "          \n",
              "            <td>\n",
              "            'EIF6'\n",
              "            </td>\n",
              "          \n",
              "            <td>\n",
              "            ...\n",
              "            </td>\n",
              "          \n",
              "            <td>\n",
              "            ''\n",
              "            </td>\n",
              "          \n",
              "            <td>\n",
              "            ''\n",
              "            </td>\n",
              "          \n",
              "            <td>\n",
              "            ''\n",
              "            </td>\n",
              "          \n",
              "          </tr>\n",
              "        </tbody>\n",
              "        </table>\n",
              "        \n",
              "            </td>\n",
              "          </tr>\n",
              "        \n",
              "          <tr>\n",
              "            <th>\n",
              "            GO:0000077\n",
              "            </th>\n",
              "            <td>\n",
              "            \n",
              "        <span>StrVector with 412 elements.</span>\n",
              "        <table>\n",
              "        <tbody>\n",
              "          <tr>\n",
              "          \n",
              "            <td>\n",
              "            'RAD1'\n",
              "            </td>\n",
              "          \n",
              "            <td>\n",
              "            'USP28'\n",
              "            </td>\n",
              "          \n",
              "            <td>\n",
              "            'PTPN11'\n",
              "            </td>\n",
              "          \n",
              "            <td>\n",
              "            ...\n",
              "            </td>\n",
              "          \n",
              "            <td>\n",
              "            ''\n",
              "            </td>\n",
              "          \n",
              "            <td>\n",
              "            ''\n",
              "            </td>\n",
              "          \n",
              "            <td>\n",
              "            ''\n",
              "            </td>\n",
              "          \n",
              "          </tr>\n",
              "        </tbody>\n",
              "        </table>\n",
              "        \n",
              "            </td>\n",
              "          </tr>\n",
              "        \n",
              "          <tr>\n",
              "            <th>\n",
              "            GO:0000097\n",
              "            </th>\n",
              "            <td>\n",
              "            \n",
              "        <span>StrVector with 412 elements.</span>\n",
              "        <table>\n",
              "        <tbody>\n",
              "          <tr>\n",
              "          \n",
              "            <td>\n",
              "            ''\n",
              "            </td>\n",
              "          \n",
              "            <td>\n",
              "            ''\n",
              "            </td>\n",
              "          \n",
              "            <td>\n",
              "            ''\n",
              "            </td>\n",
              "          \n",
              "            <td>\n",
              "            ...\n",
              "            </td>\n",
              "          \n",
              "            <td>\n",
              "            ''\n",
              "            </td>\n",
              "          \n",
              "            <td>\n",
              "            ''\n",
              "            </td>\n",
              "          \n",
              "            <td>\n",
              "            ''\n",
              "            </td>\n",
              "          \n",
              "          </tr>\n",
              "        </tbody>\n",
              "        </table>\n",
              "        \n",
              "            </td>\n",
              "          </tr>\n",
              "        \n",
              "          <tr>\n",
              "            <th>\n",
              "            ...\n",
              "            </th>\n",
              "            <td>\n",
              "            ...\n",
              "            </td>\n",
              "          </tr>\n",
              "        \n",
              "          <tr>\n",
              "            <th>\n",
              "            GO:0090398\n",
              "            </th>\n",
              "            <td>\n",
              "            \n",
              "        <span>StrVector with 412 elements.</span>\n",
              "        <table>\n",
              "        <tbody>\n",
              "          <tr>\n",
              "          \n",
              "            <td>\n",
              "            'H2AX'\n",
              "            </td>\n",
              "          \n",
              "            <td>\n",
              "            'TBX3'\n",
              "            </td>\n",
              "          \n",
              "            <td>\n",
              "            'SMC5'\n",
              "            </td>\n",
              "          \n",
              "            <td>\n",
              "            ...\n",
              "            </td>\n",
              "          \n",
              "            <td>\n",
              "            ''\n",
              "            </td>\n",
              "          \n",
              "            <td>\n",
              "            ''\n",
              "            </td>\n",
              "          \n",
              "            <td>\n",
              "            ''\n",
              "            </td>\n",
              "          \n",
              "          </tr>\n",
              "        </tbody>\n",
              "        </table>\n",
              "        \n",
              "            </td>\n",
              "          </tr>\n",
              "        \n",
              "          <tr>\n",
              "            <th>\n",
              "            GO:0097191\n",
              "            </th>\n",
              "            <td>\n",
              "            \n",
              "        <span>StrVector with 412 elements.</span>\n",
              "        <table>\n",
              "        <tbody>\n",
              "          <tr>\n",
              "          \n",
              "            <td>\n",
              "            'SMAD3'\n",
              "            </td>\n",
              "          \n",
              "            <td>\n",
              "            'SGPP1'\n",
              "            </td>\n",
              "          \n",
              "            <td>\n",
              "            'PML'\n",
              "            </td>\n",
              "          \n",
              "            <td>\n",
              "            ...\n",
              "            </td>\n",
              "          \n",
              "            <td>\n",
              "            ''\n",
              "            </td>\n",
              "          \n",
              "            <td>\n",
              "            ''\n",
              "            </td>\n",
              "          \n",
              "            <td>\n",
              "            ''\n",
              "            </td>\n",
              "          \n",
              "          </tr>\n",
              "        </tbody>\n",
              "        </table>\n",
              "        \n",
              "            </td>\n",
              "          </tr>\n",
              "        \n",
              "          <tr>\n",
              "            <th>\n",
              "            GO:0097193\n",
              "            </th>\n",
              "            <td>\n",
              "            \n",
              "        <span>StrVector with 412 elements.</span>\n",
              "        <table>\n",
              "        <tbody>\n",
              "          <tr>\n",
              "          \n",
              "            <td>\n",
              "            'SGPP1'\n",
              "            </td>\n",
              "          \n",
              "            <td>\n",
              "            'MSH6'\n",
              "            </td>\n",
              "          \n",
              "            <td>\n",
              "            'HRAS'\n",
              "            </td>\n",
              "          \n",
              "            <td>\n",
              "            ...\n",
              "            </td>\n",
              "          \n",
              "            <td>\n",
              "            ''\n",
              "            </td>\n",
              "          \n",
              "            <td>\n",
              "            ''\n",
              "            </td>\n",
              "          \n",
              "            <td>\n",
              "            ''\n",
              "            </td>\n",
              "          \n",
              "          </tr>\n",
              "        </tbody>\n",
              "        </table>\n",
              "        \n",
              "            </td>\n",
              "          </tr>\n",
              "        \n",
              "        </tbody>\n",
              "        </table>\n",
              "        "
            ],
            "text/plain": [
              "<rpy2.robjects.vectors.ListVector object at 0x7f39d8163e10> [RTYPES.VECSXP]\n",
              "R classes: ('list',)\n",
              "[StrSexpVe..., StrSexpVe..., StrSexpVe..., StrSexpVe..., ..., StrSexpVe..., StrSexpVe..., StrSexpVe..., StrSexpVe...]\n",
              "  GO:0000054: <class 'rpy2.robjects.vectors.StrVector'>\n",
              "  <rpy2.robjects.vectors.StrVector object at 0x7f39d9ad9c30> [RTYPES.STRSXP]\n",
              "R classes: ('character',)\n",
              "['LSG1', 'ABCE1', 'EIF6', 'RAN', ..., '', '', '', '']\n",
              "  GO:0000077: <class 'rpy2.robjects.vectors.StrVector'>\n",
              "  <rpy2.robjects.vectors.StrVector object at 0x7f39d9ad9a50> [RTYPES.STRSXP]\n",
              "R classes: ('character',)\n",
              "['RAD1', 'USP28', 'PTPN11', 'RHNO1', ..., '', '', '', '']\n",
              "  GO:0000097: <class 'rpy2.robjects.vectors.StrVector'>\n",
              "  <rpy2.robjects.vectors.StrVector object at 0x7f39d7d079b0> [RTYPES.STRSXP]\n",
              "R classes: ('character',)\n",
              "['', '', '', '', ..., '', '', '', '']\n",
              "  GO:0000165: <class 'rpy2.robjects.vectors.StrVector'>\n",
              "  <rpy2.robjects.vectors.StrVector object at 0x7f39d7d07190> [RTYPES.STRSXP]\n",
              "R classes: ('character',)\n",
              "['RAF1', 'SMAD1', 'PSMB4', 'PSME2', ..., '', '', '', '']\n",
              "...\n",
              "  GO:0000723: <class 'rpy2.robjects.vectors.StrVector'>\n",
              "  <rpy2.robjects.vectors.StrVector object at 0x7f39cc106690> [RTYPES.STRSXP]\n",
              "R classes: ('character',)\n",
              "['RAB32', 'RAB34', 'RAB43', 'RAB31', ..., '', '', '', '']\n",
              "  GO:0000725: <class 'rpy2.robjects.vectors.StrVector'>\n",
              "  <rpy2.robjects.vectors.StrVector object at 0x7f39cc2d9be0> [RTYPES.STRSXP]\n",
              "R classes: ('character',)\n",
              "['H2AX', 'TBX3', 'SMC5', 'TERF2', ..., '', '', '', '']\n",
              "  GO:0000726: <class 'rpy2.robjects.vectors.StrVector'>\n",
              "  <rpy2.robjects.vectors.StrVector object at 0x7f39d6851960> [RTYPES.STRSXP]\n",
              "R classes: ('character',)\n",
              "['SMAD3', 'SGPP1', 'PML', 'GSK3B', ..., '', '', '', '']\n",
              "  GO:0000917: <class 'rpy2.robjects.vectors.StrVector'>\n",
              "  <rpy2.robjects.vectors.StrVector object at 0x7f39d6851dc0> [RTYPES.STRSXP]\n",
              "R classes: ('character',)\n",
              "['SGPP1', 'MSH6', 'HRAS', 'NOL3', ..., '', '', '', '']"
            ]
          },
          "metadata": {},
          "execution_count": 51
        }
      ]
    },
    {
      "cell_type": "markdown",
      "metadata": {
        "id": "dJNsjnC2C-0G"
      },
      "source": [
        "And the same with our scores, converting them into rnk file format."
      ]
    },
    {
      "cell_type": "code",
      "metadata": {
        "id": "ZTuhkYig8Bx3"
      },
      "source": [
        "# cp_targets = cp_targets[cp_targets.overallAssociationScore!='No data']\n",
        "# cp_targets['overallAssociationScore'] = genetic_gp_targets['overallAssociationScore'].astype(float)\n",
        "cp_targets[['symbol','overallAssociationScore']].to_csv('cp_targets.rnk',sep='\\t', index=False)"
      ],
      "execution_count": 60,
      "outputs": []
    },
    {
      "cell_type": "code",
      "metadata": {
        "id": "drUw0sPm-bSw"
      },
      "source": [
        "%%R\n",
        "ranks <- read.table('cp_targets.rnk',\n",
        "                    header=TRUE, colClasses = c(\"character\", \"numeric\"))\n",
        "ranks <- setNames(ranks$overallAssociationScore, ranks$symbol)"
      ],
      "execution_count": 102,
      "outputs": []
    },
    {
      "cell_type": "markdown",
      "metadata": {
        "id": "kmGCCoZSDIRy"
      },
      "source": [
        "Running fgsea with (roughly) the same config as fgsea's python counterpart."
      ]
    },
    {
      "cell_type": "code",
      "metadata": {
        "id": "2uBRb2sN70eP"
      },
      "source": [
        "%%R -o results\n",
        "results <- fgsea(pathways = pathways, \n",
        "                  stats    = ranks,\n",
        "                  minSize  = 15,\n",
        "                  maxSize  = 500)\n",
        "\n",
        "old_results <- results\n",
        "\n",
        "results$leadingEdge <- lapply(results$leadingEdge, function(v) paste(v, collapse=','))\n",
        "results <- data.frame(lapply(results, unlist))\n"
      ],
      "execution_count": 89,
      "outputs": []
    },
    {
      "cell_type": "code",
      "metadata": {
        "colab": {
          "base_uri": "https://localhost:8080/",
          "height": 359
        },
        "id": "7IIWrJna-h1K",
        "outputId": "d43940f5-f0a3-49c3-e9f3-4fdd14136e3d"
      },
      "source": [
        "results['go_name'] = results.pathway.apply(go2name.get)\n",
        "results.sort_values(by='NES', ascending=False).head(10)"
      ],
      "execution_count": 88,
      "outputs": [
        {
          "output_type": "execute_result",
          "data": {
            "text/html": [
              "<div>\n",
              "<style scoped>\n",
              "    .dataframe tbody tr th:only-of-type {\n",
              "        vertical-align: middle;\n",
              "    }\n",
              "\n",
              "    .dataframe tbody tr th {\n",
              "        vertical-align: top;\n",
              "    }\n",
              "\n",
              "    .dataframe thead th {\n",
              "        text-align: right;\n",
              "    }\n",
              "</style>\n",
              "<table border=\"1\" class=\"dataframe\">\n",
              "  <thead>\n",
              "    <tr style=\"text-align: right;\">\n",
              "      <th></th>\n",
              "      <th>pathway</th>\n",
              "      <th>pval</th>\n",
              "      <th>padj</th>\n",
              "      <th>log2err</th>\n",
              "      <th>ES</th>\n",
              "      <th>NES</th>\n",
              "      <th>size</th>\n",
              "      <th>leadingEdge</th>\n",
              "      <th>go_name</th>\n",
              "    </tr>\n",
              "  </thead>\n",
              "  <tbody>\n",
              "    <tr>\n",
              "      <th>4</th>\n",
              "      <td>GO:0006367</td>\n",
              "      <td>0.022816</td>\n",
              "      <td>0.398352</td>\n",
              "      <td>0.352488</td>\n",
              "      <td>0.827233</td>\n",
              "      <td>1.444742</td>\n",
              "      <td>17</td>\n",
              "      <td>VDR,NR3C1,CREBBP,CCN2,PGR,THRA</td>\n",
              "      <td>transcription initiation from RNA polymerase I...</td>\n",
              "    </tr>\n",
              "    <tr>\n",
              "      <th>7</th>\n",
              "      <td>GO:0006919</td>\n",
              "      <td>0.054000</td>\n",
              "      <td>0.398352</td>\n",
              "      <td>0.191892</td>\n",
              "      <td>0.742733</td>\n",
              "      <td>1.305878</td>\n",
              "      <td>21</td>\n",
              "      <td>CDKN2A,NGFR,NGF,S100A9,EIF2AK3,NLRP1,BAD</td>\n",
              "      <td>activation of cysteine-type endopeptidase acti...</td>\n",
              "    </tr>\n",
              "    <tr>\n",
              "      <th>16</th>\n",
              "      <td>GO:0016579</td>\n",
              "      <td>0.048951</td>\n",
              "      <td>0.398352</td>\n",
              "      <td>0.202072</td>\n",
              "      <td>0.736472</td>\n",
              "      <td>1.299012</td>\n",
              "      <td>25</td>\n",
              "      <td>CFTR,SMAD4,IL33,PTEN</td>\n",
              "      <td>protein deubiquitination</td>\n",
              "    </tr>\n",
              "    <tr>\n",
              "      <th>13</th>\n",
              "      <td>GO:0009749</td>\n",
              "      <td>0.090271</td>\n",
              "      <td>0.523571</td>\n",
              "      <td>0.145516</td>\n",
              "      <td>0.720428</td>\n",
              "      <td>1.263514</td>\n",
              "      <td>18</td>\n",
              "      <td>SLC8A1,CCN2,ILDR2,GIPR,BAD,PTEN,NEUROD1,MAFA,R...</td>\n",
              "      <td>response to glucose</td>\n",
              "    </tr>\n",
              "    <tr>\n",
              "      <th>23</th>\n",
              "      <td>GO:0042593</td>\n",
              "      <td>0.054945</td>\n",
              "      <td>0.398352</td>\n",
              "      <td>0.190023</td>\n",
              "      <td>0.692868</td>\n",
              "      <td>1.233166</td>\n",
              "      <td>36</td>\n",
              "      <td>NGFR,PDX1,BHLHA15,GCK,INS,LEP,GCGR,WFS1,LEPR,C...</td>\n",
              "      <td>glucose homeostasis</td>\n",
              "    </tr>\n",
              "    <tr>\n",
              "      <th>18</th>\n",
              "      <td>GO:0019722</td>\n",
              "      <td>0.186935</td>\n",
              "      <td>0.903518</td>\n",
              "      <td>0.095603</td>\n",
              "      <td>0.664942</td>\n",
              "      <td>1.161305</td>\n",
              "      <td>17</td>\n",
              "      <td>CXCR2,CXCR1,BHLHA15,EIF2AK3,PDPK1,CHRM3</td>\n",
              "      <td>calcium-mediated signaling</td>\n",
              "    </tr>\n",
              "    <tr>\n",
              "      <th>26</th>\n",
              "      <td>GO:0050821</td>\n",
              "      <td>0.226000</td>\n",
              "      <td>0.936286</td>\n",
              "      <td>0.084556</td>\n",
              "      <td>0.636343</td>\n",
              "      <td>1.118822</td>\n",
              "      <td>21</td>\n",
              "      <td>CDKN2A,WFS1,PTEN,TP53,CDKN1A</td>\n",
              "      <td>protein stabilization</td>\n",
              "    </tr>\n",
              "    <tr>\n",
              "      <th>3</th>\n",
              "      <td>GO:0001666</td>\n",
              "      <td>0.280719</td>\n",
              "      <td>0.995976</td>\n",
              "      <td>0.073074</td>\n",
              "      <td>0.603386</td>\n",
              "      <td>1.073906</td>\n",
              "      <td>36</td>\n",
              "      <td>SMAD4,CREBBP,LEP,TLR2,CD38</td>\n",
              "      <td>response to hypoxia</td>\n",
              "    </tr>\n",
              "    <tr>\n",
              "      <th>15</th>\n",
              "      <td>GO:0016567</td>\n",
              "      <td>0.332000</td>\n",
              "      <td>0.995976</td>\n",
              "      <td>0.064794</td>\n",
              "      <td>0.600506</td>\n",
              "      <td>1.055813</td>\n",
              "      <td>21</td>\n",
              "      <td>CUL4A,RBX1,CRBN,DDB1,FEM1B,SMURF1,CUL9,SOCS1,H...</td>\n",
              "      <td>protein ubiquitination</td>\n",
              "    </tr>\n",
              "    <tr>\n",
              "      <th>9</th>\n",
              "      <td>GO:0007204</td>\n",
              "      <td>0.412587</td>\n",
              "      <td>0.995976</td>\n",
              "      <td>0.054456</td>\n",
              "      <td>0.582426</td>\n",
              "      <td>1.027300</td>\n",
              "      <td>25</td>\n",
              "      <td>CXCR2,CXCR1,CD38,PKD1,GIPR,FFAR1,GHRL,CCKBR,JA...</td>\n",
              "      <td>positive regulation of cytosolic calcium ion c...</td>\n",
              "    </tr>\n",
              "  </tbody>\n",
              "</table>\n",
              "</div>"
            ],
            "text/plain": [
              "       pathway  ...                                            go_name\n",
              "4   GO:0006367  ...  transcription initiation from RNA polymerase I...\n",
              "7   GO:0006919  ...  activation of cysteine-type endopeptidase acti...\n",
              "16  GO:0016579  ...                           protein deubiquitination\n",
              "13  GO:0009749  ...                                response to glucose\n",
              "23  GO:0042593  ...                                glucose homeostasis\n",
              "18  GO:0019722  ...                         calcium-mediated signaling\n",
              "26  GO:0050821  ...                              protein stabilization\n",
              "3   GO:0001666  ...                                response to hypoxia\n",
              "15  GO:0016567  ...                             protein ubiquitination\n",
              "9   GO:0007204  ...  positive regulation of cytosolic calcium ion c...\n",
              "\n",
              "[10 rows x 9 columns]"
            ]
          },
          "metadata": {},
          "execution_count": 88
        }
      ]
    },
    {
      "cell_type": "markdown",
      "metadata": {
        "id": "XkV5sTVWDTKY"
      },
      "source": [
        "The ES plot for calcium signalling looks pretty similiar."
      ]
    },
    {
      "cell_type": "code",
      "metadata": {
        "colab": {
          "base_uri": "https://localhost:8080/",
          "height": 497
        },
        "id": "N06mowCZ-izE",
        "outputId": "b2befefb-fad6-490e-f9df-5ef46eb67b8e"
      },
      "source": [
        "%%R\n",
        "plotEnrichment(pathways[[\"GO:0019722\"]],\n",
        "               ranks) + labs(title=\"calcium-mediated signaling\")"
      ],
      "execution_count": 86,
      "outputs": [
        {
          "output_type": "display_data",
          "data": {
            "image/png": "[encoded data removed]"
          },
          "metadata": {}
        }
      ]
    },
    {
      "cell_type": "markdown",
      "metadata": {
        "id": "7ucDPCOzDW-W"
      },
      "source": [
        "The fgsea package also have a gsea table plotting function. I don't think this really provides any additional information not shown in the pandas dataframe. The FDR for both packages is worryingly high. Perhaps this is due to either a very small geneset (there's only around ~600 goprocesses), or a relatively small number of genes with scores. Normally you would run prerank GSEA on the DEGs of a t'omics comparison, and thus would have ~20,000 genes/score pairs."
      ]
    },
    {
      "cell_type": "code",
      "metadata": {
        "colab": {
          "base_uri": "https://localhost:8080/",
          "height": 497
        },
        "id": "zh2uU8fM_qGa",
        "outputId": "4869ea21-03ce-4750-822b-1c95c7bf38fd"
      },
      "source": [
        "%%R\n",
        "topPathwaysUp <- old_results[ES > 0][head(order(pval), n=10), pathway]\n",
        "topPathwaysDown <- old_results[ES < 0][head(order(pval), n=10), pathway]\n",
        "topPathways <- c(topPathwaysUp, rev(topPathwaysDown))\n",
        "plotGseaTable(pathways[topPathways], ranks, old_results, \n",
        "              gseaParam=0.5)"
      ],
      "execution_count": 94,
      "outputs": [
        {
          "output_type": "display_data",
          "data": {
            "image/png": "[encoded data removed]"
          },
          "metadata": {}
        }
      ]
    }
  ]
}